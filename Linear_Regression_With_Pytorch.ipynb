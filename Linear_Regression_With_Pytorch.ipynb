{
  "nbformat": 4,
  "nbformat_minor": 0,
  "metadata": {
    "colab": {
      "name": "Linear_Regression_With_Pytorch.ipynb",
      "provenance": [],
      "authorship_tag": "ABX9TyMUEyAAGcJ9YAY7GnBwVkFa",
      "include_colab_link": true
    },
    "kernelspec": {
      "name": "python3",
      "display_name": "Python 3"
    },
    "language_info": {
      "name": "python"
    },
    "accelerator": "GPU"
  },
  "cells": [
    {
      "cell_type": "markdown",
      "metadata": {
        "id": "view-in-github",
        "colab_type": "text"
      },
      "source": [
        "<a href=\"https://colab.research.google.com/github/PromitHal/Pytorch/blob/master/Linear_Regression_With_Pytorch.ipynb\" target=\"_parent\"><img src=\"https://colab.research.google.com/assets/colab-badge.svg\" alt=\"Open In Colab\"/></a>"
      ]
    },
    {
      "cell_type": "code",
      "execution_count": 1,
      "metadata": {
        "id": "Axj3_GlCDaVZ"
      },
      "outputs": [],
      "source": [
        "import torch\n",
        "x=torch.tensor([1,2,3])"
      ]
    },
    {
      "cell_type": "code",
      "source": [
        "x=x.reshape(-1,3)"
      ],
      "metadata": {
        "id": "Evu-QnGVDijA"
      },
      "execution_count": 7,
      "outputs": []
    },
    {
      "cell_type": "code",
      "source": [
        "y=torch.tensor([[1,2,3],[4,5,6],[7,8,9]])\n",
        "y"
      ],
      "metadata": {
        "colab": {
          "base_uri": "https://localhost:8080/"
        },
        "id": "WZhs6upxDqvc",
        "outputId": "f5e0c4aa-d350-44ac-854f-c70577ebb8bb"
      },
      "execution_count": 9,
      "outputs": [
        {
          "output_type": "execute_result",
          "data": {
            "text/plain": [
              "tensor([[1, 2, 3],\n",
              "        [4, 5, 6],\n",
              "        [7, 8, 9]])"
            ]
          },
          "metadata": {},
          "execution_count": 9
        }
      ]
    },
    {
      "cell_type": "code",
      "source": [
        "y=y.reshape(1,9)\n",
        "y"
      ],
      "metadata": {
        "colab": {
          "base_uri": "https://localhost:8080/"
        },
        "id": "bbILvw11D7Wp",
        "outputId": "00191b7e-789d-4d8f-a476-0db613e0cc7f"
      },
      "execution_count": 11,
      "outputs": [
        {
          "output_type": "execute_result",
          "data": {
            "text/plain": [
              "tensor([[1, 2, 3, 4, 5, 6, 7, 8, 9]])"
            ]
          },
          "metadata": {},
          "execution_count": 11
        }
      ]
    },
    {
      "cell_type": "code",
      "source": [
        "y=y.squeeze(dim=0)\n"
      ],
      "metadata": {
        "id": "Ine6rbkqEHBe"
      },
      "execution_count": 12,
      "outputs": []
    },
    {
      "cell_type": "code",
      "source": [
        "y"
      ],
      "metadata": {
        "colab": {
          "base_uri": "https://localhost:8080/"
        },
        "id": "Z5Y3NiBrENXJ",
        "outputId": "34de8f50-105b-4ba4-c896-151f016f5e56"
      },
      "execution_count": 13,
      "outputs": [
        {
          "output_type": "execute_result",
          "data": {
            "text/plain": [
              "tensor([1, 2, 3, 4, 5, 6, 7, 8, 9])"
            ]
          },
          "metadata": {},
          "execution_count": 13
        }
      ]
    },
    {
      "cell_type": "code",
      "source": [
        "y.shape"
      ],
      "metadata": {
        "colab": {
          "base_uri": "https://localhost:8080/"
        },
        "id": "4Lqw7OA9EPXq",
        "outputId": "cfcb68a5-17a3-4bb0-e068-979f94ebb512"
      },
      "execution_count": 15,
      "outputs": [
        {
          "output_type": "execute_result",
          "data": {
            "text/plain": [
              "torch.Size([9])"
            ]
          },
          "metadata": {},
          "execution_count": 15
        }
      ]
    },
    {
      "cell_type": "code",
      "source": [
        "#Input(temp,rainfall,humidity)\n",
        "import numpy as np\n",
        "inputs=np.array([\n",
        "                 [73,67,43],\n",
        "                 [91,88,64],\n",
        "                 [87,134,58],\n",
        "                 [102,43,37],\n",
        "                 [69,96,70]\n",
        "],dtype='float32')\n",
        "inputs"
      ],
      "metadata": {
        "colab": {
          "base_uri": "https://localhost:8080/"
        },
        "id": "-IZKqqAJER0N",
        "outputId": "0445c194-d1ed-47d3-ed5c-99c47c67f4a8"
      },
      "execution_count": 18,
      "outputs": [
        {
          "output_type": "execute_result",
          "data": {
            "text/plain": [
              "array([[ 73.,  67.,  43.],\n",
              "       [ 91.,  88.,  64.],\n",
              "       [ 87., 134.,  58.],\n",
              "       [102.,  43.,  37.],\n",
              "       [ 69.,  96.,  70.]], dtype=float32)"
            ]
          },
          "metadata": {},
          "execution_count": 18
        }
      ]
    },
    {
      "cell_type": "code",
      "source": [
        "#Targets (apples,oranges)\n",
        "targets=np.array([\n",
        "                  [56,70],\n",
        "                  [81,101],\n",
        "                  [119,133],\n",
        "                  [22,37],\n",
        "                  [103,119]\n",
        "],dtype='float32')\n",
        "targets"
      ],
      "metadata": {
        "colab": {
          "base_uri": "https://localhost:8080/"
        },
        "id": "-8ZGB5SNEmyc",
        "outputId": "b219fbeb-c7b2-4e02-ca24-03af918ac576"
      },
      "execution_count": 19,
      "outputs": [
        {
          "output_type": "execute_result",
          "data": {
            "text/plain": [
              "array([[ 56.,  70.],\n",
              "       [ 81., 101.],\n",
              "       [119., 133.],\n",
              "       [ 22.,  37.],\n",
              "       [103., 119.]], dtype=float32)"
            ]
          },
          "metadata": {},
          "execution_count": 19
        }
      ]
    },
    {
      "cell_type": "code",
      "source": [
        "#Convert inputs and targets to tensors\n",
        "inputs=torch.from_numpy(inputs)\n",
        "targets=torch.from_numpy(targets)\n",
        "print(input)\n",
        "print(targets)"
      ],
      "metadata": {
        "colab": {
          "base_uri": "https://localhost:8080/"
        },
        "id": "xBV58lJTE9ME",
        "outputId": "424dd726-fda8-473b-e3d4-71038b54bc0c"
      },
      "execution_count": 20,
      "outputs": [
        {
          "output_type": "stream",
          "name": "stdout",
          "text": [
            "<bound method Kernel.raw_input of <google.colab._kernel.Kernel object at 0x7f42c4a45550>>\n",
            "tensor([[ 56.,  70.],\n",
            "        [ 81., 101.],\n",
            "        [119., 133.],\n",
            "        [ 22.,  37.],\n",
            "        [103., 119.]])\n"
          ]
        }
      ]
    },
    {
      "cell_type": "markdown",
      "source": [
        "**Linear Regression from Scratch**"
      ],
      "metadata": {
        "id": "Y33tIV63FMyD"
      }
    },
    {
      "cell_type": "code",
      "source": [
        "w=torch.randn(2,3,requires_grad=True) # Weights\n",
        "b=torch.randn(2,requires_grad=True) #Biases\n",
        "print(w)\n",
        "print(b)"
      ],
      "metadata": {
        "colab": {
          "base_uri": "https://localhost:8080/"
        },
        "id": "x2UhiYQYFPzt",
        "outputId": "c8d8373e-40b3-49dd-a314-8e2a61915122"
      },
      "execution_count": 22,
      "outputs": [
        {
          "output_type": "stream",
          "name": "stdout",
          "text": [
            "tensor([[ 0.1571, -0.3283,  1.1905],\n",
            "        [-1.2369, -0.2996,  1.1666]], requires_grad=True)\n",
            "tensor([1.3394, 1.5431], requires_grad=True)\n"
          ]
        }
      ]
    },
    {
      "cell_type": "code",
      "source": [
        "def model(x):\n",
        "  return x @ w.t()+b\n",
        "  # @ represents matrix multiplication in PyTorch,and the .t method returns the transpose of a tensor\n",
        "  "
      ],
      "metadata": {
        "id": "7h_i846fFL-d"
      },
      "execution_count": 23,
      "outputs": []
    },
    {
      "cell_type": "code",
      "source": [
        "#Generate Predictions\n",
        "preds=model(inputs)\n",
        "print(preds)"
      ],
      "metadata": {
        "colab": {
          "base_uri": "https://localhost:8080/"
        },
        "id": "hodPzYEyHYrK",
        "outputId": "0dc97937-574c-470b-a544-d6f80fefdb17"
      },
      "execution_count": 24,
      "outputs": [
        {
          "output_type": "stream",
          "name": "stdout",
          "text": [
            "tensor([[ 42.0087, -58.6609],\n",
            "        [ 62.9445, -62.7186],\n",
            "        [ 40.0728, -78.5536],\n",
            "        [ 47.3008, -94.3390],\n",
            "        [ 64.0045, -30.9046]], grad_fn=<AddBackward0>)\n"
          ]
        }
      ]
    },
    {
      "cell_type": "code",
      "source": [
        "#Compare with targets\n",
        "print(targets)"
      ],
      "metadata": {
        "colab": {
          "base_uri": "https://localhost:8080/"
        },
        "id": "YsF6API6HdiE",
        "outputId": "b552131f-99b1-46d8-82ea-6f4aa084bac4"
      },
      "execution_count": 25,
      "outputs": [
        {
          "output_type": "stream",
          "name": "stdout",
          "text": [
            "tensor([[ 56.,  70.],\n",
            "        [ 81., 101.],\n",
            "        [119., 133.],\n",
            "        [ 22.,  37.],\n",
            "        [103., 119.]])\n"
          ]
        }
      ]
    },
    {
      "cell_type": "markdown",
      "source": [
        "**Loss Function**"
      ],
      "metadata": {
        "id": "52Pp4EwfHn1Q"
      }
    },
    {
      "cell_type": "code",
      "source": [
        "diff=targets-preds\n",
        "diff_sqr=diff*diff #Element wise multiplication\n",
        "torch.sum(diff_sqr)/diff.numel()"
      ],
      "metadata": {
        "colab": {
          "base_uri": "https://localhost:8080/"
        },
        "id": "SEQdlTsCHggS",
        "outputId": "9eeadd23-b012-4e78-b31c-70044adbf7f1"
      },
      "execution_count": 27,
      "outputs": [
        {
          "output_type": "execute_result",
          "data": {
            "text/plain": [
              "tensor(13674.5674, grad_fn=<DivBackward0>)"
            ]
          },
          "metadata": {},
          "execution_count": 27
        }
      ]
    },
    {
      "cell_type": "code",
      "source": [
        "#MSE loss\n",
        "def mse(t1,t2):\n",
        "  diff=t1-t2\n",
        "  return torch.sum(diff*diff)/diff.numel()"
      ],
      "metadata": {
        "id": "q4RkiTnJH2tD"
      },
      "execution_count": 28,
      "outputs": []
    },
    {
      "cell_type": "code",
      "source": [
        "#Compute loss\n",
        "loss=mse(preds,targets)\n",
        "print(loss)"
      ],
      "metadata": {
        "colab": {
          "base_uri": "https://localhost:8080/"
        },
        "id": "TQ-iU4l5ILXZ",
        "outputId": "713a6687-ae7f-4153-8d30-bca7d84c219f"
      },
      "execution_count": 29,
      "outputs": [
        {
          "output_type": "stream",
          "name": "stdout",
          "text": [
            "tensor(13674.5674, grad_fn=<DivBackward0>)\n"
          ]
        }
      ]
    },
    {
      "cell_type": "markdown",
      "source": [
        "**Compute  gradients**"
      ],
      "metadata": {
        "id": "ONIv0HSQIgCx"
      }
    },
    {
      "cell_type": "markdown",
      "source": [
        "With PyTorch, we can automatically compute the gradient or derivative of the loss w.r.t to the weights and biases , because they have requires_grad set to True. The derivative of the loss w.r.t the weights matrix is itself a matrix,with the same dimensions."
      ],
      "metadata": {
        "id": "o7p4L01bIwp1"
      }
    },
    {
      "cell_type": "code",
      "source": [
        "#Compute gradients\n",
        "loss.backward()"
      ],
      "metadata": {
        "id": "YU6y40PVIURL"
      },
      "execution_count": 30,
      "outputs": []
    },
    {
      "cell_type": "code",
      "source": [
        "#Gradients for weights\n",
        "print(w)\n",
        "print(w.grad)"
      ],
      "metadata": {
        "colab": {
          "base_uri": "https://localhost:8080/"
        },
        "id": "3Ej50hkoJJ3U",
        "outputId": "7800f411-adfd-4107-9ffa-950c2c77d777"
      },
      "execution_count": 31,
      "outputs": [
        {
          "output_type": "stream",
          "name": "stdout",
          "text": [
            "tensor([[ 0.1571, -0.3283,  1.1905],\n",
            "        [-1.2369, -0.2996,  1.1666]], requires_grad=True)\n",
            "tensor([[ -1928.2180,  -3151.6348,  -1625.7019],\n",
            "        [-13287.1602, -14282.8232,  -8726.6758]])\n"
          ]
        }
      ]
    },
    {
      "cell_type": "code",
      "source": [
        "print(b)\n",
        "print(b.grad)"
      ],
      "metadata": {
        "colab": {
          "base_uri": "https://localhost:8080/"
        },
        "id": "Fc_q0mShJZGe",
        "outputId": "dbad0ff4-533d-4253-a704-f7474edfe45d"
      },
      "execution_count": 32,
      "outputs": [
        {
          "output_type": "stream",
          "name": "stdout",
          "text": [
            "tensor([1.3394, 1.5431], requires_grad=True)\n",
            "tensor([ -24.9337, -157.0353])\n"
          ]
        }
      ]
    },
    {
      "cell_type": "markdown",
      "source": [
        "Before we proceed, we reset the gradients to zero by calling .zero_() method. We need to this,because PyTorch accumulates,gradients i.e. the next time we call .backward on the loss, the new gradient values will get added to the existing gradient values, which may lead to unexpected results\n"
      ],
      "metadata": {
        "id": "ujn5TMZxJ1Xh"
      }
    },
    {
      "cell_type": "code",
      "source": [
        "w.grad.zero_()\n",
        "b.grad.zero_()\n",
        "print(w.grad)\n",
        "print(b.grad)"
      ],
      "metadata": {
        "colab": {
          "base_uri": "https://localhost:8080/"
        },
        "id": "3eOzMHMmJm2I",
        "outputId": "df4240c2-e449-41ba-85a5-344aa3767021"
      },
      "execution_count": 34,
      "outputs": [
        {
          "output_type": "stream",
          "name": "stdout",
          "text": [
            "tensor([[0., 0., 0.],\n",
            "        [0., 0., 0.]])\n",
            "tensor([0., 0.])\n"
          ]
        }
      ]
    },
    {
      "cell_type": "markdown",
      "source": [
        "**Adjust weights and biases using gradient descent**"
      ],
      "metadata": {
        "id": "kbhptPRrKe8b"
      }
    },
    {
      "cell_type": "code",
      "source": [
        "#Generate predictions\n",
        "preds=model(inputs)\n",
        "print(preds)"
      ],
      "metadata": {
        "colab": {
          "base_uri": "https://localhost:8080/"
        },
        "id": "MOaqMweFKbp-",
        "outputId": "a639dbb9-098b-4730-fa42-d1e166a1bffb"
      },
      "execution_count": 35,
      "outputs": [
        {
          "output_type": "stream",
          "name": "stdout",
          "text": [
            "tensor([[ 42.0087, -58.6609],\n",
            "        [ 62.9445, -62.7186],\n",
            "        [ 40.0728, -78.5536],\n",
            "        [ 47.3008, -94.3390],\n",
            "        [ 64.0045, -30.9046]], grad_fn=<AddBackward0>)\n"
          ]
        }
      ]
    },
    {
      "cell_type": "code",
      "source": [
        "#Calculate the loss\n",
        "loss=mse(preds,targets)\n",
        "print(loss)"
      ],
      "metadata": {
        "colab": {
          "base_uri": "https://localhost:8080/"
        },
        "id": "STnQ4lOSKrNX",
        "outputId": "d88359c9-43cc-4320-9407-a27e0127fe8d"
      },
      "execution_count": 38,
      "outputs": [
        {
          "output_type": "stream",
          "name": "stdout",
          "text": [
            "tensor(13674.5674, grad_fn=<DivBackward0>)\n"
          ]
        }
      ]
    },
    {
      "cell_type": "code",
      "source": [
        "#Compute gradients\n",
        "loss.backward()\n",
        "print(w.grad)\n",
        "print(b.grad)"
      ],
      "metadata": {
        "colab": {
          "base_uri": "https://localhost:8080/"
        },
        "id": "uawmHbZsMqeL",
        "outputId": "71dbd058-061c-4773-a752-799a38f35a24"
      },
      "execution_count": 39,
      "outputs": [
        {
          "output_type": "stream",
          "name": "stdout",
          "text": [
            "tensor([[ -1928.2180,  -3151.6348,  -1625.7019],\n",
            "        [-13287.1602, -14282.8232,  -8726.6758]])\n",
            "tensor([ -24.9337, -157.0353])\n"
          ]
        }
      ]
    },
    {
      "cell_type": "code",
      "source": [
        "#Adjust weights and reset gradients\n",
        "with torch.no_grad():\n",
        "  w-=w.grad*1e-5\n",
        "  b-=b.grad*1e-5\n",
        "  w.grad.zero_()\n",
        "  b.grad.zero_()\n"
      ],
      "metadata": {
        "id": "HtIEPYpMKwMr"
      },
      "execution_count": 40,
      "outputs": []
    },
    {
      "cell_type": "code",
      "source": [
        "print(w)\n",
        "print(b)"
      ],
      "metadata": {
        "colab": {
          "base_uri": "https://localhost:8080/"
        },
        "id": "nzvKKqrjNArX",
        "outputId": "37162037-038c-4b88-b856-91b6b1f3ab52"
      },
      "execution_count": 41,
      "outputs": [
        {
          "output_type": "stream",
          "name": "stdout",
          "text": [
            "tensor([[ 0.1764, -0.2967,  1.2068],\n",
            "        [-1.1040, -0.1568,  1.2539]], requires_grad=True)\n",
            "tensor([1.3396, 1.5447], requires_grad=True)\n"
          ]
        }
      ]
    },
    {
      "cell_type": "code",
      "source": [
        "#loss\n",
        "preds=model(inputs)\n",
        "loss=mse(preds,targets)\n",
        "print(loss)"
      ],
      "metadata": {
        "colab": {
          "base_uri": "https://localhost:8080/"
        },
        "id": "80_ZY-1GNPhl",
        "outputId": "63c0c9ea-ff2a-4d13-c47e-d6e8440bde16"
      },
      "execution_count": 42,
      "outputs": [
        {
          "output_type": "stream",
          "name": "stdout",
          "text": [
            "tensor(9367.4551, grad_fn=<DivBackward0>)\n"
          ]
        }
      ]
    },
    {
      "cell_type": "markdown",
      "source": [
        "**Train  for multiple epochs**"
      ],
      "metadata": {
        "id": "qTVKRXz2Nhd3"
      }
    },
    {
      "cell_type": "code",
      "source": [
        "for i in range(100):\n",
        "  preds=model(inputs)\n",
        "  loss=mse(preds,targets)\n",
        "  loss.backward()\n",
        "  with torch.no_grad():\n",
        "    w-=w.grad*1e-5\n",
        "    b-=b.grad*1e-5\n",
        "    w.grad.zero_()\n",
        "    b.grad.zero_()\n",
        "    "
      ],
      "metadata": {
        "id": "1Jq90zzeNcL6"
      },
      "execution_count": 43,
      "outputs": []
    },
    {
      "cell_type": "code",
      "source": [
        "#Calculate loss\n",
        "preds=model(inputs)\n",
        "loss=mse(preds,targets)\n",
        "print(preds)\n",
        "print(loss)"
      ],
      "metadata": {
        "colab": {
          "base_uri": "https://localhost:8080/"
        },
        "id": "pSlc7Pc1Orlk",
        "outputId": "69d32998-cac7-41a0-d44b-7fd3b54c0f4d"
      },
      "execution_count": 44,
      "outputs": [
        {
          "output_type": "stream",
          "name": "stdout",
          "text": [
            "tensor([[ 61.6217,  69.9505],\n",
            "        [ 90.5097, 105.6870],\n",
            "        [ 92.6495, 122.1299],\n",
            "        [ 46.2162,  33.9531],\n",
            "        [101.9607, 129.9583]], grad_fn=<AddBackward0>)\n",
            "tensor(167.3391, grad_fn=<DivBackward0>)\n"
          ]
        }
      ]
    },
    {
      "cell_type": "code",
      "source": [
        "targets"
      ],
      "metadata": {
        "colab": {
          "base_uri": "https://localhost:8080/"
        },
        "id": "JhtyHEfNO1l4",
        "outputId": "cb1ae8fc-be3f-420b-9bea-4af632637837"
      },
      "execution_count": 45,
      "outputs": [
        {
          "output_type": "execute_result",
          "data": {
            "text/plain": [
              "tensor([[ 56.,  70.],\n",
              "        [ 81., 101.],\n",
              "        [119., 133.],\n",
              "        [ 22.,  37.],\n",
              "        [103., 119.]])"
            ]
          },
          "metadata": {},
          "execution_count": 45
        }
      ]
    },
    {
      "cell_type": "code",
      "source": [
        ""
      ],
      "metadata": {
        "id": "eVlsAfn0O6Fu"
      },
      "execution_count": null,
      "outputs": []
    }
  ]
}