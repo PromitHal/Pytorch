{
  "nbformat": 4,
  "nbformat_minor": 0,
  "metadata": {
    "colab": {
      "name": "Pytorch_Intro.ipynb",
      "provenance": [],
      "authorship_tag": "ABX9TyPqU+ukR8bBUdcNWWn7XLID",
      "include_colab_link": true
    },
    "kernelspec": {
      "name": "python3",
      "display_name": "Python 3"
    },
    "language_info": {
      "name": "python"
    },
    "accelerator": "GPU"
  },
  "cells": [
    {
      "cell_type": "markdown",
      "metadata": {
        "id": "view-in-github",
        "colab_type": "text"
      },
      "source": [
        "<a href=\"https://colab.research.google.com/github/PromitHal/Pytorch/blob/master/Pytorch_Intro.ipynb\" target=\"_parent\"><img src=\"https://colab.research.google.com/assets/colab-badge.svg\" alt=\"Open In Colab\"/></a>"
      ]
    },
    {
      "cell_type": "code",
      "execution_count": 1,
      "metadata": {
        "colab": {
          "base_uri": "https://localhost:8080/"
        },
        "id": "29RkBW02hSve",
        "outputId": "3fb220b5-feb6-4b0e-ac54-6cb05355ed0c"
      },
      "outputs": [
        {
          "output_type": "stream",
          "name": "stdout",
          "text": [
            "tensor([[1., 1.],\n",
            "        [1., 1.]], dtype=torch.float16)\n",
            "<built-in method type of Tensor object at 0x7f183323db90>\n",
            "torch.Size([2, 2])\n"
          ]
        }
      ],
      "source": [
        "import torch\n",
        "x=torch.ones(2,2,dtype=torch.float16)\n",
        "print(x)\n",
        "print(x.type)\n",
        "print(x.size())"
      ]
    },
    {
      "cell_type": "code",
      "source": [
        "x=torch.rand(2,2)\n",
        "print(x)\n",
        "y=torch.rand(2,2)\n",
        "print(y)\n",
        "#z=x+y also works\n",
        "z=torch.add(x,y)\n",
        "print(z)\n",
        "z=torch.sub(x,y)\n",
        "print(z)\n",
        "#z=x*y\n",
        "z=torch.mul(x,y)\n",
        "print(z)"
      ],
      "metadata": {
        "colab": {
          "base_uri": "https://localhost:8080/"
        },
        "id": "boDFQQbUp5Bm",
        "outputId": "5f21af21-21ea-4680-b3c7-f5f960bf073d"
      },
      "execution_count": 2,
      "outputs": [
        {
          "output_type": "stream",
          "name": "stdout",
          "text": [
            "tensor([[0.2302, 0.1826],\n",
            "        [0.4377, 0.9462]])\n",
            "tensor([[0.1615, 0.1301],\n",
            "        [0.9787, 0.8397]])\n",
            "tensor([[0.3917, 0.3126],\n",
            "        [1.4163, 1.7859]])\n",
            "tensor([[ 0.0687,  0.0525],\n",
            "        [-0.5410,  0.1064]])\n",
            "tensor([[0.0372, 0.0237],\n",
            "        [0.4283, 0.7945]])\n"
          ]
        }
      ]
    },
    {
      "cell_type": "code",
      "source": [
        "import random\n",
        "random.seed(42)\n",
        "x=torch.rand(5,3)\n",
        "print(x)\n",
        "print(x[:,0])"
      ],
      "metadata": {
        "colab": {
          "base_uri": "https://localhost:8080/"
        },
        "id": "KfHJWLmiriCE",
        "outputId": "c9d1bb0e-70f0-4748-8b53-ca9c8ae3face"
      },
      "execution_count": 3,
      "outputs": [
        {
          "output_type": "stream",
          "name": "stdout",
          "text": [
            "tensor([[0.9680, 0.2712, 0.8106],\n",
            "        [0.2872, 0.3202, 0.2240],\n",
            "        [0.5420, 0.7222, 0.5535],\n",
            "        [0.9197, 0.6836, 0.9692],\n",
            "        [0.1672, 0.6501, 0.0802]])\n",
            "tensor([0.9680, 0.2872, 0.5420, 0.9197, 0.1672])\n"
          ]
        }
      ]
    },
    {
      "cell_type": "code",
      "source": [
        "random.seed(43)\n",
        "x=torch.rand(5,3)\n",
        "print(x)\n",
        "print(x[0,:])"
      ],
      "metadata": {
        "colab": {
          "base_uri": "https://localhost:8080/"
        },
        "id": "rWcuD4txq6cQ",
        "outputId": "72533113-0471-4c27-b4ef-baafd2cb8240"
      },
      "execution_count": 5,
      "outputs": [
        {
          "output_type": "stream",
          "name": "stdout",
          "text": [
            "tensor([[0.6498, 0.6304, 0.8202],\n",
            "        [0.9786, 0.3189, 0.0595],\n",
            "        [0.2887, 0.3384, 0.7527],\n",
            "        [0.8992, 0.7945, 0.1680],\n",
            "        [0.7469, 0.6911, 0.0877]])\n",
            "tensor([0.6498, 0.6304, 0.8202])\n"
          ]
        }
      ]
    },
    {
      "cell_type": "code",
      "source": [
        "# Same location in memory\n",
        "import numpy as np\n",
        "a=np.ones(5)\n",
        "print(a)\n",
        "b=torch.from_numpy(a)\n",
        "print(b)\n",
        "a+=1\n",
        "print(a)"
      ],
      "metadata": {
        "colab": {
          "base_uri": "https://localhost:8080/"
        },
        "id": "FKZo3Njdtr05",
        "outputId": "c3384546-cdef-4a97-811c-ad42919d2da5"
      },
      "execution_count": 7,
      "outputs": [
        {
          "output_type": "stream",
          "name": "stdout",
          "text": [
            "[1. 1. 1. 1. 1.]\n",
            "tensor([1., 1., 1., 1., 1.], dtype=torch.float64)\n",
            "[2. 2. 2. 2. 2.]\n"
          ]
        }
      ]
    },
    {
      "cell_type": "code",
      "source": [
        ""
      ],
      "metadata": {
        "id": "tAgKiSg3v9ey"
      },
      "execution_count": null,
      "outputs": []
    },
    {
      "cell_type": "code",
      "source": [
        ""
      ],
      "metadata": {
        "id": "qIQTPg4lvEeK"
      },
      "execution_count": null,
      "outputs": []
    }
  ]
}